{
  "cells": [
    {
      "cell_type": "markdown",
      "metadata": {
        "id": "Xexme0aKwPl3"
      },
      "source": [
        "# Practical 3: Artificial Neural Network\n",
        "\n",
        "This is the first task of Practical 3. You will build a neural network to classify the handwritten digits from the MNIST dataset (http://yann.lecun.com/exdb/mnist/). \n",
        "You will build the classifier from scartch. \n",
        "\n",
        "We will mark your code based on the accuracy of your model. You should get **at least 97%** accuracy on this dataset. Don't forget to save and check in your model. "
      ]
    },
    {
      "cell_type": "markdown",
      "metadata": {
        "id": "2AnM4w9ywPl7"
      },
      "source": [
        "## Import the libraries"
      ]
    },
    {
      "cell_type": "code",
      "execution_count": null,
      "metadata": {
        "id": "fG8PbrY7wPl7"
      },
      "outputs": [],
      "source": [
        "import numpy as np\n",
        "import pandas as pd\n",
        "import matplotlib.pyplot as plt\n",
        "\n",
        "import tensorflow as tf\n",
        "from tensorflow import keras"
      ]
    },
    {
      "cell_type": "code",
      "execution_count": null,
      "metadata": {
        "colab": {
          "base_uri": "https://localhost:8080/",
          "height": 36
        },
        "id": "12_XDEP0wPl9",
        "outputId": "88dc28b8-8def-47d8-bdc1-7540b88bc7b9"
      },
      "outputs": [
        {
          "output_type": "execute_result",
          "data": {
            "application/vnd.google.colaboratory.intrinsic+json": {
              "type": "string"
            },
            "text/plain": [
              "'2.7.0'"
            ]
          },
          "metadata": {},
          "execution_count": 2
        }
      ],
      "source": [
        "tf.__version__"
      ]
    },
    {
      "cell_type": "code",
      "execution_count": null,
      "metadata": {
        "colab": {
          "base_uri": "https://localhost:8080/",
          "height": 36
        },
        "id": "F41eRnsawPl-",
        "outputId": "6c673b08-4696-4bd0-8269-463d37414300"
      },
      "outputs": [
        {
          "output_type": "execute_result",
          "data": {
            "application/vnd.google.colaboratory.intrinsic+json": {
              "type": "string"
            },
            "text/plain": [
              "'2.7.0'"
            ]
          },
          "metadata": {},
          "execution_count": 3
        }
      ],
      "source": [
        "tf.keras.__version__"
      ]
    },
    {
      "cell_type": "markdown",
      "metadata": {
        "id": "0L-4g7YCwPl-"
      },
      "source": [
        "## Prepare the dataset\n",
        "\n",
        "In this block, you will prepare the data for the training, such as normalisation. "
      ]
    },
    {
      "cell_type": "code",
      "execution_count": null,
      "metadata": {
        "colab": {
          "base_uri": "https://localhost:8080/",
          "height": 342
        },
        "id": "hlorYtFGwPl-",
        "outputId": "439f9af4-b5af-41e5-f0ea-51c285249680"
      },
      "outputs": [
        {
          "output_type": "stream",
          "name": "stdout",
          "text": [
            "Downloading data from https://storage.googleapis.com/tensorflow/tf-keras-datasets/mnist.npz\n",
            "11493376/11490434 [==============================] - 0s 0us/step\n",
            "11501568/11490434 [==============================] - 0s 0us/step\n"
          ]
        },
        {
          "output_type": "display_data",
          "data": {
            "image/png": "[encoded data removed]",
            "text/plain": [
              "<Figure size 432x288 with 9 Axes>"
            ]
          },
          "metadata": {
            "needs_background": "light"
          }
        },
        {
          "output_type": "execute_result",
          "data": {
            "text/plain": [
              "(60000, 28, 28)"
            ]
          },
          "metadata": {},
          "execution_count": 4
        }
      ],
      "source": [
        "from keras.datasets import mnist\n",
        "(X_train_full, y_train_full), (X_test, y_test) = mnist.load_data()\n",
        "\n",
        "for i in range(0,9):\n",
        "    plt.subplot(330 + 1 + i)\n",
        "    plt.imshow(X_train_full[i])\n",
        "plt.show()\n",
        "\n",
        "X_train_full.shape"
      ]
    },
    {
      "cell_type": "code",
      "execution_count": null,
      "metadata": {
        "colab": {
          "base_uri": "https://localhost:8080/"
        },
        "id": "QtLCEN_hwPl_",
        "outputId": "6206da25-4e61-4c93-9d0e-ff0430323497"
      },
      "outputs": [
        {
          "output_type": "stream",
          "name": "stdout",
          "text": [
            "Reshaped training data shape (60000, 28, 28, 1)\n",
            "Reshaped testing data shape (10000, 28, 28, 1)\n"
          ]
        }
      ],
      "source": [
        "# reshaping of data\n",
        "X_train_fullr = X_train_full.reshape((X_train_full.shape[0], X_train_full.shape[1], X_train_full.shape[2], 1))\n",
        "X_testr = X_test.reshape((X_test.shape[0], X_test.shape[1], X_test.shape[2], 1))\n",
        "print('Reshaped training data shape', X_train_fullr.shape)\n",
        "print('Reshaped testing data shape', X_testr.shape)"
      ]
    },
    {
      "cell_type": "code",
      "execution_count": null,
      "metadata": {
        "id": "hLOkIoY7wPmA"
      },
      "outputs": [],
      "source": [
        "# normalisation too range of 0 to 1\n",
        "X_train_fullr = X_train_fullr / 255\n",
        "X_testr = X_testr / 255"
      ]
    },
    {
      "cell_type": "code",
      "execution_count": null,
      "metadata": {
        "id": "nH2XfpLIwPmB"
      },
      "outputs": [],
      "source": [
        "nlabels = len(np.unique(y_train_full)) # number of unique labels\n",
        "\n",
        "\n",
        "# one-hot encoding of labels\n",
        "y_trainl = np.zeros((y_train_full.shape[0], nlabels))\n",
        "y_testl  = np.zeros((y_test.shape[0], nlabels))\n",
        "\n",
        "for i in range(0,y_train_full.shape[0]):   \n",
        "    y_trainl[i, y_train_full[i].astype(int)]=1\n",
        "    \n",
        "for i in range(0,y_test.shape[0]):    \n",
        "    y_testl[i, y_test[i].astype(int)]=1"
      ]
    },
    {
      "cell_type": "markdown",
      "metadata": {
        "id": "1fzEzQmYwPmB"
      },
      "source": [
        "## Build and train the model\n",
        "\n",
        "Build and train your model. "
      ]
    },
    {
      "cell_type": "code",
      "execution_count": null,
      "metadata": {
        "id": "s0qAV1ZXwPmC"
      },
      "outputs": [],
      "source": [
        "# TODO: Build your model\n",
        "\n",
        "from keras.models import Sequential\n",
        "from keras.layers import Dense\n",
        "from tensorflow.keras.optimizers import Adam\n",
        "from tensorflow.keras.layers import Conv2D\n",
        "from tensorflow.keras.layers import MaxPooling2D\n",
        "from tensorflow.keras.layers import Flatten\n",
        "\n",
        "\n",
        "\n",
        "input_dimension = (X_train_full.shape[1], X_train_full.shape[2], 1) #764 = 28 * 28\n",
        "\n",
        "model = Sequential()\n",
        "\n",
        "# 2D conv layers with relu activation and 2D max pool\n",
        "model.add(Conv2D(32, (5, 5), activation='relu', input_shape=input_dimension))\n",
        "model.add(MaxPooling2D((3, 3)))\n",
        "\n",
        "# 2D conv layers with relu activation and 2D max pool\n",
        "model.add(Conv2D(16, (3, 3), activation='relu'))\n",
        "model.add(MaxPooling2D((2, 2)))\n",
        "\n",
        "# linear layers with relu activation\n",
        "model.add(Flatten())\n",
        "model.add(Dense(150, activation='relu'))\n",
        "model.add(Dense(50, activation='relu'))\n",
        "model.add(Dense(nlabels, activation='softmax'))\n",
        "model.compile(Adam(learning_rate=0.001), # optimizer\n",
        "              loss='categorical_crossentropy', #loss function\n",
        "              metrics=['accuracy'])"
      ]
    },
    {
      "cell_type": "code",
      "execution_count": null,
      "metadata": {
        "colab": {
          "base_uri": "https://localhost:8080/"
        },
        "id": "CVlBgQ-swPmC",
        "outputId": "f613cf1d-7f37-4a34-f553-53e2305fabe6"
      },
      "outputs": [
        {
          "output_type": "stream",
          "name": "stdout",
          "text": [
            "Model: \"sequential\"\n",
            "_________________________________________________________________\n",
            " Layer (type)                Output Shape              Param #   \n",
            "=================================================================\n",
            " conv2d (Conv2D)             (None, 24, 24, 32)        832       \n",
            "                                                                 \n",
            " max_pooling2d (MaxPooling2D  (None, 8, 8, 32)         0         \n",
            " )                                                               \n",
            "                                                                 \n",
            " conv2d_1 (Conv2D)           (None, 6, 6, 16)          4624      \n",
            "                                                                 \n",
            " max_pooling2d_1 (MaxPooling  (None, 3, 3, 16)         0         \n",
            " 2D)                                                             \n",
            "                                                                 \n",
            " flatten (Flatten)           (None, 144)               0         \n",
            "                                                                 \n",
            " dense (Dense)               (None, 150)               21750     \n",
            "                                                                 \n",
            " dense_1 (Dense)             (None, 50)                7550      \n",
            "                                                                 \n",
            " dense_2 (Dense)             (None, 10)                510       \n",
            "                                                                 \n",
            "=================================================================\n",
            "Total params: 35,266\n",
            "Trainable params: 35,266\n",
            "Non-trainable params: 0\n",
            "_________________________________________________________________\n"
          ]
        }
      ],
      "source": [
        "# show the structure of your model\n",
        "model.summary()"
      ]
    },
    {
      "cell_type": "code",
      "source": [
        "# used to open connection with my google drive account since\n",
        "# I trained the model on google colab\n",
        "# DO NOT RUN THIS FOR MARKING PURPOSES\n",
        "from google.colab import drive\n",
        "drive.mount('/content/drive')"
      ],
      "metadata": {
        "colab": {
          "base_uri": "https://localhost:8080/"
        },
        "id": "P73upK8VCXX0",
        "outputId": "56f1615b-dea5-470f-b410-0f47953ce4a8"
      },
      "execution_count": null,
      "outputs": [
        {
          "output_type": "stream",
          "name": "stdout",
          "text": [
            "Mounted at /content/drive\n"
          ]
        }
      ]
    },
    {
      "cell_type": "code",
      "execution_count": null,
      "metadata": {
        "colab": {
          "base_uri": "https://localhost:8080/"
        },
        "id": "1VJxrGLmwPmC",
        "outputId": "a0af1e43-197d-44ea-bad2-b5b5ebe7fb33"
      },
      "outputs": [
        {
          "output_type": "stream",
          "name": "stdout",
          "text": [
            "Epoch 1/6\n",
            "1500/1500 [==============================] - 15s 4ms/step - loss: 0.2183 - accuracy: 0.9327 - val_loss: 0.1197 - val_accuracy: 0.9633\n",
            "Epoch 2/6\n",
            "1500/1500 [==============================] - 6s 4ms/step - loss: 0.0650 - accuracy: 0.9799 - val_loss: 0.0665 - val_accuracy: 0.9797\n",
            "Epoch 3/6\n",
            "1500/1500 [==============================] - 5s 4ms/step - loss: 0.0486 - accuracy: 0.9850 - val_loss: 0.0577 - val_accuracy: 0.9827\n",
            "Epoch 4/6\n",
            "1500/1500 [==============================] - 5s 4ms/step - loss: 0.0391 - accuracy: 0.9879 - val_loss: 0.0450 - val_accuracy: 0.9871\n",
            "Epoch 5/6\n",
            "1500/1500 [==============================] - 5s 4ms/step - loss: 0.0317 - accuracy: 0.9897 - val_loss: 0.0382 - val_accuracy: 0.9887\n",
            "Epoch 6/6\n",
            "1500/1500 [==============================] - 6s 4ms/step - loss: 0.0284 - accuracy: 0.9908 - val_loss: 0.0381 - val_accuracy: 0.9887\n"
          ]
        }
      ],
      "source": [
        "history = model.fit(X_train_fullr, y_trainl, validation_split=0.2, epochs=6, batch_size=32, verbose=1, shuffle=1)"
      ]
    },
    {
      "cell_type": "code",
      "execution_count": null,
      "metadata": {
        "colab": {
          "base_uri": "https://localhost:8080/",
          "height": 486
        },
        "id": "gaURD4-FwPmD",
        "outputId": "d6b71d8f-7879-4d15-9aaa-7a871f184b79"
      },
      "outputs": [
        {
          "output_type": "display_data",
          "data": {
            "image/png": "[encoded data removed]",
            "text/plain": [
              "<Figure size 864x576 with 1 Axes>"
            ]
          },
          "metadata": {
            "needs_background": "light"
          }
        }
      ],
      "source": [
        "# Assume you have stored the training history in the variable \"history\"\n",
        "# Show the learning curves\n",
        "pd.DataFrame(history.history).plot(figsize=(12, 8))\n",
        "plt.gca().set_ylim(0, 1)\n",
        "plt.grid(True)\n",
        "plt.show()"
      ]
    },
    {
      "cell_type": "markdown",
      "metadata": {
        "id": "XICmHu9zwPmD"
      },
      "source": [
        "## Save the model"
      ]
    },
    {
      "cell_type": "code",
      "execution_count": null,
      "metadata": {
        "id": "pIigRsArwPmE"
      },
      "outputs": [],
      "source": [
        "#model.save('/content/drive/MyDrive/P3/CNN/mnist.h5') THIS WAS USED TO STORE THE MODEL IN MY DRIVE\n",
        "model.save('FDS21-M140-MNIST.h5') # change the file name according to your repository name"
      ]
    },
    {
      "cell_type": "markdown",
      "metadata": {
        "id": "YBzdft-dwPmE"
      },
      "source": [
        "## Load the model and evaluate it on the test data"
      ]
    },
    {
      "cell_type": "code",
      "execution_count": null,
      "metadata": {
        "colab": {
          "base_uri": "https://localhost:8080/"
        },
        "id": "XbJtHsFvwPmE",
        "outputId": "ef4c612e-1106-48d3-d2a6-41d53b7da2b7"
      },
      "outputs": [
        {
          "output_type": "stream",
          "name": "stdout",
          "text": [
            "313/313 [==============================] - 1s 3ms/step - loss: 0.0353 - accuracy: 0.9884\n"
          ]
        },
        {
          "output_type": "execute_result",
          "data": {
            "text/plain": [
              "[0.03525395691394806, 0.9883999824523926]"
            ]
          },
          "metadata": {},
          "execution_count": 14
        }
      ],
      "source": [
        "# model = keras.models.load_model(\"/content/drive/MyDrive/P3/CNN/mnist.h5\") THIS WAS USED TO LOAD THE MODEL FROM MY DRIVE\n",
        "model = keras.models.load_model(\"FDS21-M140-MNIST.h5\")\n",
        "model.evaluate(X_testr, y_testl)"
      ]
    },
    {
      "cell_type": "markdown",
      "metadata": {
        "id": "dF9qDHlMwPmE"
      },
      "source": [
        "## Short report\n",
        "\n",
        "Please write briefly how you build and train the model. Please include the decisions you made, such as why you use x number layers, and the difficulties you met."
      ]
    },
    {
      "cell_type": "markdown",
      "metadata": {
        "id": "7aP2wWotwPmE"
      },
      "source": [
        "The architecture chosen for this model is following the sandwich architecture of the LeNet model: introduced in 1998 in the paper \"Gradient-Based Learning Applied To Document Recognition\" by Yann LeCun, Leon Bottou, Yoshua Bengio, and Patrick Haffner. \n",
        "\n",
        " Link: http://vision.stanford.edu/cs598_spring07/papers/Lecun98.pdf\n",
        "\n",
        "Firstly the data had to be normalised, since each pixel had a value of 0 to 255, this resulted to each pixel having a value of 0 to 1. Normalizing the data generally speeds up learning and leads to faster convergence.\n",
        "\n",
        "2 convolution layers with relu activation are designed to learn to extract relevant features from the image input. In order to get the best features from each convolution layer, max pooling was introduced after each convolution layer. After that, 3 fully connected layers with relu activation are introduced with a pyramid architecture. Pyramid architecture means that the size of the layers decreasing as it is going deeper. Thus, the first layer has size 150 neuros, the second 50 and lastly coming down to the number of labels to output the outcome label of the inputs.\n",
        "\n",
        "The optimizer used was Adam, which makes the learning process much faster. Various values for epochs were used and the number 6 was the winner since larger values resulted in Adam making the model overfit to the training data.\n",
        "Moreover, the default learning rate of Adam from Keras is 0.01, but again due to overfitting issues, the learning rate was changed to 0.001.\n",
        "\n",
        "For weights initialization, Glorot uniform was used, or Xavier, which is the default in Keras. This was preferred since Xavier initialisation tries to make the variance of the activations the same across every layer. This constant variance helps prevent the gradient from exploding or vanishing and thus theoretically make the model reach the global minimum faster, or avoid reaching a local minimum.\n",
        "\n",
        "The model managed to exceed the 97% mark that is asked. and reached a 98.99% of validation data accuracy and 98.84% of test data accuracy.\n",
        "\n"
      ]
    },
    {
      "cell_type": "code",
      "source": [
        ""
      ],
      "metadata": {
        "id": "0r9TWAxQArkb"
      },
      "execution_count": null,
      "outputs": []
    }
  ],
  "metadata": {
    "kernelspec": {
      "display_name": "Python 3",
      "language": "python",
      "name": "python3"
    },
    "language_info": {
      "codemirror_mode": {
        "name": "ipython",
        "version": 3
      },
      "file_extension": ".py",
      "mimetype": "text/x-python",
      "name": "python",
      "nbconvert_exporter": "python",
      "pygments_lexer": "ipython3",
      "version": "3.8.8"
    },
    "colab": {
      "name": "MNIST.ipynb",
      "provenance": [],
      "collapsed_sections": []
    },
    "accelerator": "GPU"
  },
  "nbformat": 4,
  "nbformat_minor": 0
}