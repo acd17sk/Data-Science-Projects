{
 "cells": [
  {
   "cell_type": "markdown",
   "metadata": {},
   "source": [
    "# Practical 2 : Generative and Discriminative Models\n"
   ]
  },
  {
   "cell_type": "markdown",
   "metadata": {},
   "source": [
    "In this practical, we will compare the Naïve Bayes Classifier (NBC) and Logistic Regression on several\n",
    "datasets. As part of the practical you should read briefly the following paper:\n",
    "\n"
   ]
  },
  {
   "cell_type": "markdown",
   "metadata": {},
   "source": [
    "**On Discriminative vs. Generative classifiers: A comparison of logistic regression\n",
    "and naive Bayes**  \n",
    "*Andrew Y. Ng and Michael I. Jordan*  \n",
    "Advances in Neural Information Processing Systems (NIPS) 2001.\n",
    "\n",
    "The paper is available on OLAT. "
   ]
  },
  {
   "cell_type": "markdown",
   "metadata": {},
   "source": [
    "You should read the Introduction and the Experiments sections. The goal of this practical is\n",
    "to qualitatively reproduce some of the experimental results in this paper. You are strongly\n",
    "encouraged to read the rest of the paper, which is rather short and straightforward to read,\n",
    "though some of you may want to skip the formal proofs."
   ]
  },
  {
   "cell_type": "markdown",
   "metadata": {},
   "source": [
    "## Naïve Bayes Classifier (NBC)"
   ]
  },
  {
   "cell_type": "markdown",
   "metadata": {},
   "source": [
    "You should implement a Naïve Bayes Classifier from scartch using NumPy. To keep your code tidy,\n",
    "we recommend implementing it as a class. \n",
    "The classifier should be able to handle binary and continuous features. \n",
    "To earn the bonus points, the classifier should be able to handle categorical features as well. \n",
    "Suppose the data has 3\n",
    "different features, the first being binary, the second being continuous and the third being categorical. Write an implementation that you can initialise as follows:\n",
    "\n",
    "    nbc = NBC(feature_types=['b', 'r', 'c'])"
   ]
  },
  {
   "cell_type": "markdown",
   "metadata": {},
   "source": [
    "Along the lines of classifiers provided in sklearn, you want to implement two more functions,\n",
    "**fit** and **predict**. \n",
    "Recall the joint distribution of a generative model: $p(\\mathbf{x}, y \\mid \\theta, \\pi) = p(y \\mid \\pi) \\cdot p(\\mathbf{x} \\mid y, \\theta)$.\n",
    "The **fit** function is to estimate all the parameters ($\\theta$ and $\\pi$) of the NBC, i.e., train the classifier. The **predict** function is to compute the probabilities that the new input belongs to all classes and\n",
    "then return the class that has the largest probability, i.e., make the prediction.\n",
    "\n",
    "    nbc.fit(X_train, y_train)\n",
    "    ypredicted = nbc.predict(X_test)\n",
    "    test_accuracy = np.mean(ypredicted == ytest)"
   ]
  },
  {
   "cell_type": "markdown",
   "metadata": {},
   "source": [
    "Here we import the libraries. "
   ]
  },
  {
   "cell_type": "code",
   "execution_count": 2,
   "metadata": {},
   "outputs": [],
   "source": [
    "%matplotlib inline\n",
    "import pylab\n",
    "pylab.rcParams['figure.figsize'] = (10., 10.)\n",
    "\n",
    "import pickle as cp\n",
    "import matplotlib.pyplot as plt\n",
    "import numpy as np\n",
    "import scipy.stats as sp\n",
    "from math import floor, ceil"
   ]
  },
  {
   "cell_type": "markdown",
   "metadata": {},
   "source": [
    "### Class-conditional distributions\n",
    "\n",
    "Before implementing NBC, we first implement the class-conditional distributions $p(\\mathbf{x} \\mid y, \\theta)$. Your implementation should have two functions: **estimate** and **get_log_probability**. \n",
    "\n",
    "- The **estimate** function takes data as input and models the data using some distribution $p(x \\mid \\theta)$, where $\\theta$ is the parameters of this distribution. The function estimates the parameters $\\theta$ using maximum likelihood estimators (MLE). \n",
    "For example, in the case of continuous features, we use the Gaussian distribution to model the data. The estimate function will find the parameters $\\mu$ and $\\sigma$ for the Gaussian distribution with respect to the input data. \n",
    "\n",
    "- The **get_log_probability** function takes as input a new data point $x_{new}$ and returns the log of $p(x_{new} \\mid \\theta)$. For the Gaussian distribution, the function get_probability will return $\\mathcal{N}(x_{new} \\mid \\mu, \\sigma)$. "
   ]
  },
  {
   "cell_type": "markdown",
   "metadata": {},
   "source": [
    "For different types of features, you need to use different distributions.\n",
    "You can import statistic libraries (e.g., `scipy.stats`) for the implementation of the distributions. \n",
    "\n",
    "- For **continuous features**: Use Gaussian distribution\n",
    "    https://docs.scipy.org/doc/scipy/reference/generated/scipy.stats.norm.html\n",
    "- For **binary features**: Use Bernoulli distribution \n",
    "    https://docs.scipy.org/doc/scipy/reference/generated/scipy.stats.bernoulli.html\n",
    "- For **categorical features**: Use Multinoulli distribution (The multinoulli distribution is a special case of the multinomial distribution, where the number of trials is 1)\n",
    "    https://docs.scipy.org/doc/scipy/reference/generated/scipy.stats.multinomial.html\n",
    "\n"
   ]
  },
  {
   "cell_type": "markdown",
   "metadata": {},
   "source": [
    "**Implementation Issues:**\n",
    "- The probabilities can be very small. To avoid underflow issues, you should compute the log of the probabilities. Read more: (Mur) Chapter 3.5.3 / Lecture Notes\n",
    "- The variance for Gaussian distributions should never be exactly 0, so in\n",
    "case your calculated variance is 0, you may want to set it to a small value such as 1e − 6. This is to ensure that your code never encounters division by zero or\n",
    "taking logarithms of 0 errors. \n",
    "For this practical, please set the small value to 1e-6.\n",
    "- Laplace/Additive smoothing: You want to ensure that the estimates for the parameter for the Bernoulli and Multinoulli random variables is never exactly 0 or 1. For this reason you should consider using Laplace smoothing (https://en.wikipedia.org/wiki/Additive_smoothing).\n",
    "For this practical, please set alpha to 1.\n",
    "- We will check the correctness of your implementation using the tests below.\n",
    "- For simplicity, you can assume the data values for binary features are integers from {0,1} and the data for a categorical feature with M categories are integers from {0, ..., M-1}.\n",
    "- Fell free to add auxiliary functions or change the parameters of the functions. If you change the parameters of the functions, make sure you change the tests accordingly, so we can test your code.\n"
   ]
  },
  {
   "cell_type": "code",
   "execution_count": 3,
   "metadata": {},
   "outputs": [],
   "source": [
    "ALPHA = 1.0 # for additive smoothing\n",
    "\n",
    "# Distribution for continuous features\n",
    "class ContFeatureParam:\n",
    "    def estimate(self, X):\n",
    "        # TODO: Estimate the parameters for the Gaussian distribution \n",
    "        # so that it best describes the input data X\n",
    "        mean = X.mean()\n",
    "        var = np.where(X.var()==0, 1e-6, X.var())\n",
    "        self.std = np.sqrt(var) \n",
    "        self.mean = mean\n",
    "\n",
    "    def get_log_probability(self, X_new):\n",
    "        \n",
    "        return sp.norm(self.mean, self.std).logpdf(X_new)\n",
    "\n",
    "# Distribution for binary features\n",
    "class BinFeatureParam:\n",
    "    def estimate(self, X):\n",
    "        # TODO: Estimate the parameters for the Bernoulli distribution \n",
    "        # so that it best describes the input data X\n",
    "        # X is a vector with binary values\n",
    "        \n",
    "        X = np.append(X, [0,1]) # smoothing\n",
    "        self.mean = X.mean()\n",
    "\n",
    "    def get_log_probability(self, X_new):\n",
    "        \n",
    "        return sp.bernoulli(self.mean).logpmf(X_new)\n",
    "\n",
    "# Distribution for categorical features\n",
    "class CatFeatureParam:\n",
    "    \n",
    "    # we need to know the number of categories for the categorical feature\n",
    "    def __init__(self, num_of_categories):\n",
    "        self._num_of_categories = num_of_categories\n",
    "        self.pre_priors = np.full(self._num_of_categories, ALPHA)\n",
    "    \n",
    "    def estimate(self, X):\n",
    "        # TODO: Estimate the parameters for the Multinoulli distribution \n",
    "        # so that it best describes the input data X\n",
    "        \n",
    "        # get unique tokens and their frequencies\n",
    "        tokens, counts = np.unique(X, return_counts=True)\n",
    "\n",
    "        counts_sum = counts.sum()\n",
    "        tokens_freq = dict(zip(list(tokens), list(counts)))\n",
    "        self.tokens_dist = {}\n",
    "        \n",
    "        # calculate the frequency distribution for each category\n",
    "        for t, c in enumerate(self.pre_priors):\n",
    "            if t in tokens_freq:\n",
    "                self.tokens_dist[t] = tokens_freq[t] + c\n",
    "            else:\n",
    "                self.tokens_dist[t] = c\n",
    "        \n",
    "        # calculate probabilities\n",
    "        self.priors = np.array(list(self.tokens_dist.values())) / (counts_sum + self._num_of_categories)\n",
    "        \n",
    "    def get_log_probability(self, X_new):\n",
    "                \n",
    "        return np.log([self.priors[i] for i in X_new])"
   ]
  },
  {
   "cell_type": "markdown",
   "metadata": {},
   "source": [
    "**Tests:**\n",
    "    \n",
    "We will use the code below to test the correctness of your code."
   ]
  },
  {
   "cell_type": "code",
   "execution_count": 4,
   "metadata": {},
   "outputs": [
    {
     "name": "stdout",
     "output_type": "stream",
     "text": [
      "[-5.64670664 -3.02757918 -1.44567455 -0.90099277]\n"
     ]
    }
   ],
   "source": [
    "# continuous features\n",
    "\n",
    "X = np.array([2.70508547,2.10499698,1.76019132,3.42016431,3.47037973,3.67435061,1.84749286,4.3388506,2.27818252,4.65165335])\n",
    "\n",
    "param = ContFeatureParam()\n",
    "param.estimate(X)\n",
    "probs = param.get_log_probability(np.array([0,1,2,3]))\n",
    "print(probs)"
   ]
  },
  {
   "cell_type": "code",
   "execution_count": 5,
   "metadata": {},
   "outputs": [
    {
     "name": "stdout",
     "output_type": "stream",
     "text": [
      "[-0.87546874 -0.5389965 ]\n"
     ]
    }
   ],
   "source": [
    "# binary features\n",
    "\n",
    "X = np.array([0,0,1,1,0,1,0,1,1,1])\n",
    "\n",
    "param = BinFeatureParam()\n",
    "param.estimate(X)\n",
    "probs = param.get_log_probability(np.array([0,1]))\n",
    "print(probs)"
   ]
  },
  {
   "cell_type": "code",
   "execution_count": 6,
   "metadata": {},
   "outputs": [
    {
     "name": "stdout",
     "output_type": "stream",
     "text": [
      "[-1.94591015 -2.1690537  -1.94591015 -2.45673577 -2.1690537  -2.86220088\n",
      " -1.94591015 -3.55534806 -2.1690537  -2.86220088]\n"
     ]
    }
   ],
   "source": [
    "# categorical features (bonus task)\n",
    "\n",
    "X = np.array([0,6,5,4,0,6,6,4,1,1,2,3,8,8,1,6,4,9,0,2,2,3,8,0,2])\n",
    "\n",
    "param = CatFeatureParam(num_of_categories=10)\n",
    "param.estimate(X)\n",
    "probs = param.get_log_probability(np.array([0,1,2,3,4,5,6,7,8,9]))\n",
    "print(probs)"
   ]
  },
  {
   "cell_type": "markdown",
   "metadata": {},
   "source": [
    "### Implement NBC\n",
    "\n",
    "We are now ready to implement NBC. We follow the structure of models in scikit-learn. We implement NBC as a class with functions **init**, **fit** and **predict**.\n",
    "The **init** function takes as input the types of features and initialise the classifier. The **fit** function takes the training data as input and estimates the parameters. The **predict** function predicts the label for the input data. "
   ]
  },
  {
   "cell_type": "markdown",
   "metadata": {},
   "source": [
    "**Implementation Issues:**\n",
    "- You should use matrix operations rather than loops. In general, loops over classes or features are OK, but loops over the rows of data are not a good idea.\n",
    "- The probabilities can be very small. To avoid underflow issues, you should do the calculations in log space. Read more: (Mur) Chapter 3.5.3 / Lecture Note\n",
    "- For simplicity, you can assume the data values for binary features are integers from {0, 1} and the data for a categorical feature with M categories are integers from {0, ..., M-1}.\n",
    "- Fell free to add auxiliary functions or change the parameters of the functions. If you change the parameters of the functions, make sure you change the tests accordingly, so we can test your code."
   ]
  },
  {
   "cell_type": "code",
   "execution_count": 7,
   "metadata": {},
   "outputs": [],
   "source": [
    "# Your task is to implement the three functions of NBC. \n",
    "\n",
    "class NBC:\n",
    "    # Inputs:\n",
    "    #   feature_types: the array of the types of the features, e.g., feature_types=['b', 'r', 'c']\n",
    "    def __init__(self, feature_types=[]):\n",
    "        self.num_features = len(feature_types)\n",
    "        \n",
    "        self.feature_types = feature_types\n",
    "        \n",
    "        self.param = {}\n",
    "        \n",
    "        \n",
    "    # The function uses the input data to estimate all the parameters of the NBC\n",
    "    def fit(self, X, y):\n",
    "        \n",
    "        # set classes using the labels\n",
    "        classes = np.unique(y)\n",
    "        self.num_classes = len(classes)\n",
    "        self.classes = classes\n",
    "\n",
    "        \n",
    "        p = []\n",
    "        for c in self.classes:\n",
    "            self.param.update({c: {}})\n",
    "            \n",
    "            # get frequency of each class and add a smoothing (ALPHA)\n",
    "            p.append(np.count_nonzero(y == c) + ALPHA)\n",
    "            \n",
    "            # get indices where data belong to this class (c)\n",
    "            indices = np.argwhere(y==c)\n",
    "            \n",
    "            # get data from the found indices\n",
    "            rows = X[indices.squeeze()]\n",
    "            \n",
    "            # for each feature (column) create the appropriate \n",
    "            # object to estimate its parameters\n",
    "            # if 'r' then continuous\n",
    "            # if 'b' then binary\n",
    "            # if 'c' then categorical\n",
    "            for k in range(self.num_features):\n",
    "                if self.feature_types[k] == 'r':\n",
    "                    self.param[c].update({k: ContFeatureParam()})\n",
    "                elif self.feature_types[k] == 'b':\n",
    "                    self.param[c].update({k: BinFeatureParam()})\n",
    "                else:\n",
    "                    # number of categories for the categorical:\n",
    "                    # max is used just in case of having as an example: [0, 2 ,3, 5]\n",
    "                    # then 5 is going to be taken and include 4,\n",
    "                    # + 1 because '0' is included as a number so we need \n",
    "                    # 6 probabilities to be estimated\n",
    "                    num_categories = np.max(X[:,k]) + 1\n",
    "                    self.param[c].update({k: CatFeatureParam(num_categories)})\n",
    "                self.param[c][k].estimate(rows[:,k])\n",
    "        \n",
    "        # prior probabilities\n",
    "        self.class_prob = np.log(np.array(p) / (len(y) + ALPHA * self.num_classes))\n",
    "        \n",
    "        \n",
    "    # The function takes the data X as input, and predicts the class for the data\n",
    "    def predict(self, X):\n",
    "        prob = np.zeros((self.num_features, len(X)))\n",
    "        posterior = np.zeros((self.num_classes, len(X)))\n",
    "\n",
    "        for c in self.classes:\n",
    "            \n",
    "            # calcuate probabilities for each feature in this class (c)\n",
    "            for k in range(self.num_features):\n",
    "                prob[k] = self.param[c][k].get_log_probability(X[:,k])\n",
    "                \n",
    "            # estimate MLE by multiplying all the features \n",
    "            # for each document being in this class and \n",
    "            # multiply by the prior for this class \n",
    "            # ---> BUT ***\n",
    "            # ADDITION is used since the probabilities are in log form\n",
    "            # instead of multiplication\n",
    "            posterior[c] = self.class_prob[c] + np.sum(prob, axis=0)\n",
    "\n",
    "        return np.argmax(posterior, axis=0)\n",
    "        "
   ]
  },
  {
   "cell_type": "markdown",
   "metadata": {},
   "source": [
    "**Tests**\n",
    "\n",
    "We will use the code below to check your code."
   ]
  },
  {
   "cell_type": "code",
   "execution_count": 8,
   "metadata": {},
   "outputs": [
    {
     "name": "stdout",
     "output_type": "stream",
     "text": [
      "Accuracy: 0.9333333333333333\n",
      "[2 2 2 2 2 2 2 2 2 2 2 2 2 1 1 2 2 2 2 2 2 2 2 2 2 2 2 2 2 2]\n"
     ]
    }
   ],
   "source": [
    "# All features of the iris dataset are continuous.\n",
    "\n",
    "from sklearn.datasets import load_iris\n",
    "iris = load_iris()\n",
    "X, y = iris['data'], iris['target']\n",
    "\n",
    "N, D = X.shape\n",
    "Ntrain = int(0.8 * N)\n",
    "Xtrain = X[:Ntrain]\n",
    "ytrain = y[:Ntrain]\n",
    "Xtest = X[Ntrain:]\n",
    "ytest = y[Ntrain:]\n",
    "\n",
    "\n",
    "nbc_iris = NBC(feature_types=['r', 'r', 'r', 'r'])\n",
    "nbc_iris.fit(Xtrain, ytrain)\n",
    "\n",
    "yhat = nbc_iris.predict(Xtest)\n",
    "test_accuracy = np.mean(yhat == ytest)\n",
    "\n",
    "print(\"Accuracy:\", test_accuracy) # should be larger than 90%\n",
    "print(yhat)"
   ]
  },
  {
   "cell_type": "code",
   "execution_count": 9,
   "metadata": {},
   "outputs": [
    {
     "name": "stdout",
     "output_type": "stream",
     "text": [
      "Accuracy: 0.8723404255319149\n",
      "[1 0 1 1 0 1 1 0 0 1 1 1 0 1 1 1 1 1 0 1 1 0 1 0 0 1 1 1 0 1 1 1 0 1 0 1 0\n",
      " 0 0 1 0 0 0 0 1 1 0]\n"
     ]
    }
   ],
   "source": [
    "# All features of this dataset are binary\n",
    "import pandas as pd\n",
    "data = pd.read_csv('./datasets/binary_test.csv', header=None)\n",
    "data = data.to_numpy()\n",
    "\n",
    "X = data[:,1:]\n",
    "y = data[:,0]\n",
    "\n",
    "N, D = X.shape\n",
    "Ntrain = int(0.8 * N)\n",
    "Xtrain = X[:Ntrain]\n",
    "ytrain = y[:Ntrain]\n",
    "Xtest = X[Ntrain:]\n",
    "ytest = y[Ntrain:]\n",
    "\n",
    "\n",
    "nbc = NBC(feature_types=['b'] * 16)\n",
    "nbc.fit(Xtrain, ytrain)\n",
    "\n",
    "yhat = nbc.predict(Xtest)\n",
    "test_accuracy = np.mean(yhat == ytest)\n",
    "\n",
    "print(\"Accuracy:\", test_accuracy) # should be larger than 85%\n",
    "print(yhat)"
   ]
  },
  {
   "cell_type": "code",
   "execution_count": 10,
   "metadata": {},
   "outputs": [
    {
     "name": "stdout",
     "output_type": "stream",
     "text": [
      "Accuracy: 0.6896551724137931\n",
      "[0 1 0 1 1 0 1 1 0 1 0 0 1 0 1 0 0 0 0 0 0 0 1 0 0 1 1 0 1 0 1 0 0 0 0 1 0\n",
      " 1 0 0 0 0 0 0 1 0 0 0 0 0 0 0 1 0 0 0 0 0]\n"
     ]
    }
   ],
   "source": [
    "# All features of this dataset are categorical (bonus task)\n",
    "\n",
    "data = pd.read_csv('./datasets/categorical_test.csv', header=None)\n",
    "data = data.to_numpy()\n",
    "\n",
    "X = data[:,:-1]\n",
    "y = data[:,-1]\n",
    "\n",
    "N, D = X.shape\n",
    "Ntrain = int(0.8 * N)\n",
    "Xtrain = X[:Ntrain]\n",
    "ytrain = y[:Ntrain]\n",
    "Xtest = X[Ntrain:]\n",
    "ytest = y[Ntrain:]\n",
    "\n",
    "\n",
    "nbc = NBC(feature_types=['c'] * 9)\n",
    "nbc.fit(Xtrain, ytrain)\n",
    "yhat = nbc.predict(Xtest)\n",
    "test_accuracy = np.mean(yhat == ytest)\n",
    "\n",
    "print(\"Accuracy:\", test_accuracy) # should be larger than 65%\n",
    "print(yhat) "
   ]
  },
  {
   "cell_type": "markdown",
   "metadata": {},
   "source": [
    "## Logistic Regression"
   ]
  },
  {
   "cell_type": "markdown",
   "metadata": {},
   "source": [
    "For logistic regression, you should use the implementation in scikit-learn. Add the following\n",
    "line to import the LR model."
   ]
  },
  {
   "cell_type": "code",
   "execution_count": 189,
   "metadata": {},
   "outputs": [],
   "source": [
    "from sklearn.linear_model import LogisticRegression\n",
    "from collections import Counter\n",
    "from sklearn.preprocessing import LabelEncoder"
   ]
  },
  {
   "cell_type": "markdown",
   "metadata": {},
   "source": [
    "Check the scikit-learn documentation for the Logistic Regression model:\n",
    "- http://scikit-learn.org/stable/modules/linear_model.html#logistic-regression\n",
    "- http://scikit-learn.org/stable/modules/generated/sklearn.linear_model.LogisticRegression.html#sklearn.linear_model.LogisticRegression\n"
   ]
  },
  {
   "cell_type": "markdown",
   "metadata": {},
   "source": [
    "## Comparing NBC and LR"
   ]
  },
  {
   "cell_type": "markdown",
   "metadata": {},
   "source": [
    "### Experiments\n",
    "\n",
    "The experiment is to compare the classification error of the NBC and LR trained on increasingly larger training datasets. \n",
    "Since the datasets are so small, you should do this multiple times and\n",
    "average the classification error. One run should look as follows:\n",
    "- Shuffle the data, put 20% aside for testing.\n",
    "    \n",
    "    ```N, D = X.shape\n",
    "    Ntrain = int(0.8 * N)\n",
    "    shuffler = np.random.permutation(N)\n",
    "    Xtrain = X[shuffler[:Ntrain]]\n",
    "    ytrain = y[shuffler[:Ntrain]]\n",
    "    Xtest = X[shuffler[Ntrain:]]\n",
    "    ytest = y[shuffler[Ntrain:]]\n",
    "    \n",
    "    ```  \n",
    "\n",
    "\n",
    "- Train the classifiers with increasingly more data. For example, we can train classifiers with 10%, 20%, ..., 100% of the training data. For each case store the classification errors on the test set of the classifiers.\n",
    "\n",
    "You may want to repeat this with at least 200 random permutations (possibly as large as 1000)\n",
    "to average out the test error across the runs. In the end, you will get average test errors as a function of the size of the training data. \n",
    "We have written for you the function for making the plots for the experiments. "
   ]
  },
  {
   "cell_type": "code",
   "execution_count": 178,
   "metadata": {},
   "outputs": [],
   "source": [
    "# inputs:\n",
    "#   nbc: Naive Bayes Classifier\n",
    "#   lr: Logistic Regression Classifier\n",
    "#   X, y: data\n",
    "#   num_runs: we need repeat num_runs times and store average results\n",
    "#   num_splits: we want to compare the two models on increasingly larger training sets.\n",
    "#               num_splits defines the number of increasing steps. \n",
    "# outputs:\n",
    "#   the arrays of the test errors across the runs of the two classifiers \n",
    "def compareNBCvsLR(nbc, lr, X, y, num_runs=200, num_splits=10):\n",
    "    \n",
    "    # split data to train and test\n",
    "    Xtrain, ytrain, Xtest, ytest = split_data(X, y, 0.8)\n",
    "    \n",
    "    tst_errs_nbc = np.zeros(num_splits)\n",
    "    tst_errs_lr = np.zeros(num_splits)\n",
    "\n",
    "    for r in range(num_runs):\n",
    "        for s in range(1, num_splits+1):\n",
    "            \n",
    "            # ratio for the cut off\n",
    "            ratio = s / num_splits\n",
    "            \n",
    "            # cut train data \n",
    "            X_train, y_train, _, _ = split_data(Xtrain, ytrain, ratio)\n",
    "            \n",
    "            # initialise models by copying from the arguements\n",
    "            nbc_model = nbc\n",
    "            lr_model = lr\n",
    "            \n",
    "            # naive bayes\n",
    "            nbc_model.fit(X_train, y_train) # train model\n",
    "            nbc_res = nbc_model.predict(Xtest) # make predictions\n",
    "            nbc_error = 1 - np.mean(nbc_res == ytest) # get error rate from predictions\n",
    "            \n",
    "            # logistic regression\n",
    "            lr_model.fit(X_train, y_train)\n",
    "            lr_res = lr_model.predict(Xtest)\n",
    "            lr_error = 1 - np.mean(lr_res == ytest)\n",
    "            \n",
    "            # store errors\n",
    "            tst_errs_nbc[s-1] += nbc_error\n",
    "            tst_errs_lr[s-1] += lr_error\n",
    "    \n",
    "    # average the results\n",
    "    tst_errs_nbc = tst_errs_nbc / num_runs\n",
    "    tst_errs_lr = tst_errs_lr / num_runs\n",
    "    \n",
    "    return tst_errs_nbc, tst_errs_lr\n"
   ]
  },
  {
   "cell_type": "code",
   "execution_count": 179,
   "metadata": {},
   "outputs": [],
   "source": [
    "def makePlot(nbc_perf, lr_perf, title=None, num_splits=10):\n",
    "    fig = plt.figure()\n",
    "    ax = fig.add_subplot(1, 1, 1)\n",
    "\n",
    "    ax.tick_params(axis='both', labelsize=20)\n",
    "\n",
    "    ax.set_xlabel('Percent of training data used', fontsize=20)\n",
    "    ax.set_ylabel('Classification Error', fontsize=20)\n",
    "    if title is not None: ax.set_title(title, fontsize=25)\n",
    "\n",
    "    xaxis_scale = [(i + 1) * (100/num_splits) for i in range(num_splits)]\n",
    "    plt.plot(xaxis_scale, nbc_perf, label='Naive Bayes')\n",
    "    plt.plot(xaxis_scale, lr_perf, label='Logistic Regression', linestyle='dashed')\n",
    "    \n",
    "    ax.legend(loc='upper right', fontsize=20)"
   ]
  },
  {
   "cell_type": "code",
   "execution_count": 307,
   "metadata": {},
   "outputs": [],
   "source": [
    "def split_data(X, y, coeff):\n",
    "    \"\"\"\n",
    "    Arguements:\n",
    "    X: data\n",
    "    y: labels\n",
    "    coeff: it is the coefficient that determines \n",
    "           the split of training and test data\n",
    "        \n",
    "    **********************************************************************\n",
    "    \n",
    "    this method splits data so that all classes \n",
    "    are included in train and test sets\n",
    "    Also the data are shuffled\n",
    "    \n",
    "    e.g.\n",
    "    coeff = 0.8\n",
    "    classes = 0 & 1\n",
    "    Then: \n",
    "    training data contains: 80% of data belonging to class 1 and 80% of data belonging to class 0\n",
    "    testing data contains: 20% of data from class 1 and 20% of data from class 0\n",
    "    \n",
    "    This way both sets have data from all classes and maintains a split ratio of 80%/20%\n",
    "    Also the class distribution is maintained in both sets\n",
    "    \"\"\"\n",
    "    unique_classes = np.unique(y)    \n",
    "\n",
    "    Xtrain = []\n",
    "    ytrain = []\n",
    "    Xtest = []\n",
    "    ytest = []\n",
    "\n",
    "    for c in unique_classes:\n",
    "        # get indices of data in this class\n",
    "        indices = np.argwhere(y==c).flatten()\n",
    "        \n",
    "        # number of training data using the coefficient\n",
    "        Ntrain = int(coeff * len(indices))\n",
    "        \n",
    "        # shuffle data\n",
    "        shuffler = np.random.permutation(len(indices))\n",
    "        \n",
    "        # training set and training labels\n",
    "        Xtrain.extend(X[indices[shuffler[:Ntrain]]])\n",
    "        ytrain.extend(y[indices[shuffler[:Ntrain]]])\n",
    "\n",
    "        # testing set and testing labels\n",
    "        Xtest.extend(X[indices[shuffler[Ntrain:]]])\n",
    "        ytest.extend(y[indices[shuffler[Ntrain:]]])\n",
    "    \n",
    "    return np.array(Xtrain), np.array(ytrain), np.array(Xtest), np.array(ytest)"
   ]
  },
  {
   "cell_type": "markdown",
   "metadata": {},
   "source": [
    "### Datasets"
   ]
  },
  {
   "cell_type": "markdown",
   "metadata": {},
   "source": [
    "Tasks: For each dataset,\n",
    "1. prepare the data for the two classifiers, e.g., handle missing values, handle text/categorical data, etc.\n",
    "2. compare the two classifiers on the dataset and generate the plots\n",
    "3. write a short report of how you prepare the data and your observations of the comparison "
   ]
  },
  {
   "cell_type": "markdown",
   "metadata": {},
   "source": [
    "**Dataset 1: Iris Dataset**\n",
    "\n",
    "https://scikit-learn.org/stable/auto_examples/datasets/plot_iris_dataset.html"
   ]
  },
  {
   "cell_type": "code",
   "execution_count": 308,
   "metadata": {},
   "outputs": [
    {
     "data": {
      "image/png": "[encoded data removed]",
      "text/plain": [
       "<Figure size 720x720 with 1 Axes>"
      ]
     },
     "metadata": {
      "needs_background": "light"
     },
     "output_type": "display_data"
    }
   ],
   "source": [
    "from sklearn.datasets import load_iris\n",
    "iris = load_iris()\n",
    "X, y = iris['data'], iris['target']\n",
    "\n",
    "nbc = NBC(feature_types=['r'] * 4)\n",
    "lr = LogisticRegression(max_iter=200)\n",
    "nbcres, lrres = compareNBCvsLR(nbc, lr, X, y, num_runs=500)\n",
    "makePlot(nbcres, lrres)\n"
   ]
  },
  {
   "cell_type": "code",
   "execution_count": 309,
   "metadata": {},
   "outputs": [
    {
     "data": {
      "text/plain": [
       "(array([0.10906667, 0.0472    , 0.0368    , 0.03413333, 0.03366667,\n",
       "        0.03333333, 0.03333333, 0.03333333, 0.03333333, 0.03333333]),\n",
       " array([0.0732    , 0.05046667, 0.04213333, 0.03846667, 0.03366667,\n",
       "        0.03273333, 0.03126667, 0.03126667, 0.03266667, 0.03333333]))"
      ]
     },
     "execution_count": 309,
     "metadata": {},
     "output_type": "execute_result"
    }
   ],
   "source": [
    "nbcres, lrres"
   ]
  },
  {
   "cell_type": "markdown",
   "metadata": {},
   "source": [
    "**Short Report**\n",
    "\n",
    "For pre-processing the data no step was taken. Moreover, the splitting of the data was performed in a way that the class distribution was conserved for both training and test datasets, and all the classes are included in both training and test datasets. The dataset consisted of continuous data.\n",
    "\n",
    "Through the comparison, it can be observed that Logistic Regression managed to achieve the lowest error (0.031), using 70% of the training data. After that, a slight increase can be seen, this might be due to slight overfitting on training data. On the other hand, Naive bayes. after using 50% of the training data there was no change. This might be due to underfitting so no matter how increase in the dataset size, there is no change (high bias).\n",
    "\n",
    "All in all, Naive Bayes had a more abrupt decrease in error when increasing the dataset size in early stages. But, Logistic Regression had a more gradual decrease in error but achieved a lower error eventually. Logistic Regression can achieve better results using very small dataset (10-20% of training data). But using the whole dataset, both classifiers achieved the same error."
   ]
  },
  {
   "cell_type": "markdown",
   "metadata": {},
   "source": [
    "**Dataset 2: Voting Dataset**\n",
    "\n",
    "https://archive.ics.uci.edu/ml/datasets/congressional+voting+records\n",
    "\n",
    "The logistic regression line meets the naive bayes line early in the plot. To see it clearer, you should use only 100 data points from the dataset for this experiment."
   ]
  },
  {
   "cell_type": "code",
   "execution_count": 257,
   "metadata": {},
   "outputs": [],
   "source": [
    "def clean_data(data):\n",
    "    \"\"\"\n",
    "    This method will:\n",
    "    - encode the labels\n",
    "    - remove the nan values and replace them with appropriate value\n",
    "    \n",
    "    For each class, and then for each column, the frequency for each value is measured\n",
    "    Then for the particular class, in that column, nan is replaced by the value that \n",
    "    for that class and column exists most\n",
    "    \"\"\"\n",
    "    le = LabelEncoder()\n",
    "    le.fit(data['label'])\n",
    "    datav['label'] = le.transform(data['label'])\n",
    "\n",
    "    attr_dict = {}\n",
    "    clean_data_dataframes = {}\n",
    "    unique_labels = np.unique(data['label'])\n",
    "\n",
    "\n",
    "    for c in unique_labels:\n",
    "        # create DF for this class\n",
    "        clean_data_dataframes[c] = pd.DataFrame()\n",
    "        \n",
    "        # get records belonging in this class\n",
    "        datasubset = data[data.label == c]\n",
    "        \n",
    "        # for each column replace nan to value that exists most\n",
    "        for column in datasubset.drop('label', axis=1).columns:\n",
    "            # get frequencies for each value\n",
    "            cc = Counter(datasubset[column])\n",
    "            max_attr = max(cc.items(), key=lambda x: x[1])[0] # get most frequent\n",
    "            # replace nan with value that has most frequency\n",
    "            clean_data_dataframes[c][column] = datasubset[column].fillna(max_attr)\n",
    "            clean_data_dataframes[c]['label'] = c\n",
    "\n",
    "    # return a DF that is concatinated with all classes\n",
    "    return pd.concat([clean_data_dataframes[c] for c in unique_labels])"
   ]
  },
  {
   "cell_type": "code",
   "execution_count": 267,
   "metadata": {},
   "outputs": [],
   "source": [
    "def encode_columns(data):\n",
    "    \"\"\"\n",
    "    encodes values in each column\n",
    "    Since the values are either 'y' or 'n'\n",
    "    then we map:\n",
    "    'n' to value 0\n",
    "    'y' to value 1\n",
    "    \"\"\"\n",
    "    dataset_col = data\n",
    "\n",
    "    for column in dataset_col.drop('label', axis=1).columns:\n",
    "        data[column] = data[column].map({'n': 0, 'y': 1})\n",
    "\n",
    "    return data"
   ]
  },
  {
   "cell_type": "code",
   "execution_count": 312,
   "metadata": {},
   "outputs": [
    {
     "name": "stdout",
     "output_type": "stream",
     "text": [
      "In new dataset:\n",
      "Number of democrat records: 62\n",
      "Number of republican records: 38\n"
     ]
    }
   ],
   "source": [
    "voting = pd.read_csv('./datasets/voting.csv')\n",
    "voting = voting.sample(frac=1) # shuffle dataset\n",
    "\n",
    "# only 100 records will be used for this task\n",
    "# so it is going to be attempted to take 50 for each label\n",
    "dem_data = voting[voting.label == 'democrat'].iloc[:50] # retrieve democrat data\n",
    "rep_data = voting[voting.label == 'republican'].iloc[:50] # retrieve republican data\n",
    "\n",
    "print('In new dataset:')\n",
    "print('Number of democrat records:',dem_new_len)\n",
    "print('Number of republican records:',rep_new_len)\n",
    "\n",
    "datav = dem_data.append(rep_data) # concatinate democrats and republicans\n",
    "datav = clean_data(datav) # remove nan values and encode label\n",
    "datav = encode_columns(datav) # encode values of each column\n"
   ]
  },
  {
   "cell_type": "code",
   "execution_count": 313,
   "metadata": {},
   "outputs": [
    {
     "data": {
      "text/html": [
       "<div>\n",
       "<style scoped>\n",
       "    .dataframe tbody tr th:only-of-type {\n",
       "        vertical-align: middle;\n",
       "    }\n",
       "\n",
       "    .dataframe tbody tr th {\n",
       "        vertical-align: top;\n",
       "    }\n",
       "\n",
       "    .dataframe thead th {\n",
       "        text-align: right;\n",
       "    }\n",
       "</style>\n",
       "<table border=\"1\" class=\"dataframe\">\n",
       "  <thead>\n",
       "    <tr style=\"text-align: right;\">\n",
       "      <th></th>\n",
       "      <th>handicapped-infants</th>\n",
       "      <th>label</th>\n",
       "      <th>water-project-cost-sharing</th>\n",
       "      <th>adoption-of-the-budget-resolution</th>\n",
       "      <th>physician-fee-freeze</th>\n",
       "      <th>el-salvador-aid</th>\n",
       "      <th>religious-groups-in-schools</th>\n",
       "      <th>anti-satellite-test-ban</th>\n",
       "      <th>aid-to-nicaraguan-contras</th>\n",
       "      <th>mx-missile</th>\n",
       "      <th>immigration</th>\n",
       "      <th>synfuels-corporation-cutback</th>\n",
       "      <th>education-spending</th>\n",
       "      <th>superfund-right-to-sue</th>\n",
       "      <th>crime</th>\n",
       "      <th>duty-free-exports</th>\n",
       "      <th>export-administration-act-south-africa</th>\n",
       "    </tr>\n",
       "  </thead>\n",
       "  <tbody>\n",
       "    <tr>\n",
       "      <th>320</th>\n",
       "      <td>0</td>\n",
       "      <td>0</td>\n",
       "      <td>1</td>\n",
       "      <td>1</td>\n",
       "      <td>0</td>\n",
       "      <td>0</td>\n",
       "      <td>1</td>\n",
       "      <td>0</td>\n",
       "      <td>1</td>\n",
       "      <td>1</td>\n",
       "      <td>1</td>\n",
       "      <td>0</td>\n",
       "      <td>0</td>\n",
       "      <td>1</td>\n",
       "      <td>1</td>\n",
       "      <td>0</td>\n",
       "      <td>1</td>\n",
       "    </tr>\n",
       "    <tr>\n",
       "      <th>180</th>\n",
       "      <td>1</td>\n",
       "      <td>0</td>\n",
       "      <td>1</td>\n",
       "      <td>1</td>\n",
       "      <td>0</td>\n",
       "      <td>0</td>\n",
       "      <td>0</td>\n",
       "      <td>1</td>\n",
       "      <td>1</td>\n",
       "      <td>1</td>\n",
       "      <td>0</td>\n",
       "      <td>0</td>\n",
       "      <td>0</td>\n",
       "      <td>0</td>\n",
       "      <td>0</td>\n",
       "      <td>1</td>\n",
       "      <td>1</td>\n",
       "    </tr>\n",
       "    <tr>\n",
       "      <th>47</th>\n",
       "      <td>1</td>\n",
       "      <td>0</td>\n",
       "      <td>0</td>\n",
       "      <td>1</td>\n",
       "      <td>0</td>\n",
       "      <td>0</td>\n",
       "      <td>0</td>\n",
       "      <td>1</td>\n",
       "      <td>1</td>\n",
       "      <td>1</td>\n",
       "      <td>0</td>\n",
       "      <td>0</td>\n",
       "      <td>0</td>\n",
       "      <td>0</td>\n",
       "      <td>0</td>\n",
       "      <td>0</td>\n",
       "      <td>1</td>\n",
       "    </tr>\n",
       "    <tr>\n",
       "      <th>161</th>\n",
       "      <td>0</td>\n",
       "      <td>0</td>\n",
       "      <td>0</td>\n",
       "      <td>0</td>\n",
       "      <td>0</td>\n",
       "      <td>1</td>\n",
       "      <td>1</td>\n",
       "      <td>1</td>\n",
       "      <td>0</td>\n",
       "      <td>0</td>\n",
       "      <td>0</td>\n",
       "      <td>0</td>\n",
       "      <td>1</td>\n",
       "      <td>1</td>\n",
       "      <td>1</td>\n",
       "      <td>0</td>\n",
       "      <td>1</td>\n",
       "    </tr>\n",
       "    <tr>\n",
       "      <th>172</th>\n",
       "      <td>0</td>\n",
       "      <td>0</td>\n",
       "      <td>1</td>\n",
       "      <td>1</td>\n",
       "      <td>0</td>\n",
       "      <td>0</td>\n",
       "      <td>0</td>\n",
       "      <td>1</td>\n",
       "      <td>1</td>\n",
       "      <td>1</td>\n",
       "      <td>1</td>\n",
       "      <td>0</td>\n",
       "      <td>0</td>\n",
       "      <td>0</td>\n",
       "      <td>0</td>\n",
       "      <td>1</td>\n",
       "      <td>1</td>\n",
       "    </tr>\n",
       "    <tr>\n",
       "      <th>...</th>\n",
       "      <td>...</td>\n",
       "      <td>...</td>\n",
       "      <td>...</td>\n",
       "      <td>...</td>\n",
       "      <td>...</td>\n",
       "      <td>...</td>\n",
       "      <td>...</td>\n",
       "      <td>...</td>\n",
       "      <td>...</td>\n",
       "      <td>...</td>\n",
       "      <td>...</td>\n",
       "      <td>...</td>\n",
       "      <td>...</td>\n",
       "      <td>...</td>\n",
       "      <td>...</td>\n",
       "      <td>...</td>\n",
       "      <td>...</td>\n",
       "    </tr>\n",
       "    <tr>\n",
       "      <th>282</th>\n",
       "      <td>1</td>\n",
       "      <td>1</td>\n",
       "      <td>0</td>\n",
       "      <td>0</td>\n",
       "      <td>1</td>\n",
       "      <td>1</td>\n",
       "      <td>1</td>\n",
       "      <td>0</td>\n",
       "      <td>0</td>\n",
       "      <td>0</td>\n",
       "      <td>1</td>\n",
       "      <td>0</td>\n",
       "      <td>1</td>\n",
       "      <td>1</td>\n",
       "      <td>1</td>\n",
       "      <td>0</td>\n",
       "      <td>0</td>\n",
       "    </tr>\n",
       "    <tr>\n",
       "      <th>228</th>\n",
       "      <td>0</td>\n",
       "      <td>1</td>\n",
       "      <td>1</td>\n",
       "      <td>0</td>\n",
       "      <td>1</td>\n",
       "      <td>1</td>\n",
       "      <td>1</td>\n",
       "      <td>0</td>\n",
       "      <td>0</td>\n",
       "      <td>0</td>\n",
       "      <td>0</td>\n",
       "      <td>0</td>\n",
       "      <td>1</td>\n",
       "      <td>1</td>\n",
       "      <td>1</td>\n",
       "      <td>0</td>\n",
       "      <td>1</td>\n",
       "    </tr>\n",
       "    <tr>\n",
       "      <th>347</th>\n",
       "      <td>1</td>\n",
       "      <td>1</td>\n",
       "      <td>0</td>\n",
       "      <td>0</td>\n",
       "      <td>1</td>\n",
       "      <td>1</td>\n",
       "      <td>1</td>\n",
       "      <td>0</td>\n",
       "      <td>0</td>\n",
       "      <td>0</td>\n",
       "      <td>1</td>\n",
       "      <td>0</td>\n",
       "      <td>1</td>\n",
       "      <td>1</td>\n",
       "      <td>1</td>\n",
       "      <td>0</td>\n",
       "      <td>0</td>\n",
       "    </tr>\n",
       "    <tr>\n",
       "      <th>217</th>\n",
       "      <td>0</td>\n",
       "      <td>1</td>\n",
       "      <td>1</td>\n",
       "      <td>0</td>\n",
       "      <td>1</td>\n",
       "      <td>1</td>\n",
       "      <td>1</td>\n",
       "      <td>0</td>\n",
       "      <td>0</td>\n",
       "      <td>0</td>\n",
       "      <td>1</td>\n",
       "      <td>0</td>\n",
       "      <td>1</td>\n",
       "      <td>1</td>\n",
       "      <td>1</td>\n",
       "      <td>0</td>\n",
       "      <td>0</td>\n",
       "    </tr>\n",
       "    <tr>\n",
       "      <th>229</th>\n",
       "      <td>0</td>\n",
       "      <td>1</td>\n",
       "      <td>1</td>\n",
       "      <td>1</td>\n",
       "      <td>1</td>\n",
       "      <td>1</td>\n",
       "      <td>1</td>\n",
       "      <td>1</td>\n",
       "      <td>0</td>\n",
       "      <td>1</td>\n",
       "      <td>1</td>\n",
       "      <td>0</td>\n",
       "      <td>1</td>\n",
       "      <td>1</td>\n",
       "      <td>1</td>\n",
       "      <td>0</td>\n",
       "      <td>1</td>\n",
       "    </tr>\n",
       "  </tbody>\n",
       "</table>\n",
       "<p>100 rows × 17 columns</p>\n",
       "</div>"
      ],
      "text/plain": [
       "     handicapped-infants  label  water-project-cost-sharing  \\\n",
       "320                    0      0                           1   \n",
       "180                    1      0                           1   \n",
       "47                     1      0                           0   \n",
       "161                    0      0                           0   \n",
       "172                    0      0                           1   \n",
       "..                   ...    ...                         ...   \n",
       "282                    1      1                           0   \n",
       "228                    0      1                           1   \n",
       "347                    1      1                           0   \n",
       "217                    0      1                           1   \n",
       "229                    0      1                           1   \n",
       "\n",
       "     adoption-of-the-budget-resolution  physician-fee-freeze  el-salvador-aid  \\\n",
       "320                                  1                     0                0   \n",
       "180                                  1                     0                0   \n",
       "47                                   1                     0                0   \n",
       "161                                  0                     0                1   \n",
       "172                                  1                     0                0   \n",
       "..                                 ...                   ...              ...   \n",
       "282                                  0                     1                1   \n",
       "228                                  0                     1                1   \n",
       "347                                  0                     1                1   \n",
       "217                                  0                     1                1   \n",
       "229                                  1                     1                1   \n",
       "\n",
       "     religious-groups-in-schools  anti-satellite-test-ban  \\\n",
       "320                            1                        0   \n",
       "180                            0                        1   \n",
       "47                             0                        1   \n",
       "161                            1                        1   \n",
       "172                            0                        1   \n",
       "..                           ...                      ...   \n",
       "282                            1                        0   \n",
       "228                            1                        0   \n",
       "347                            1                        0   \n",
       "217                            1                        0   \n",
       "229                            1                        1   \n",
       "\n",
       "     aid-to-nicaraguan-contras  mx-missile  immigration  \\\n",
       "320                          1           1            1   \n",
       "180                          1           1            0   \n",
       "47                           1           1            0   \n",
       "161                          0           0            0   \n",
       "172                          1           1            1   \n",
       "..                         ...         ...          ...   \n",
       "282                          0           0            1   \n",
       "228                          0           0            0   \n",
       "347                          0           0            1   \n",
       "217                          0           0            1   \n",
       "229                          0           1            1   \n",
       "\n",
       "     synfuels-corporation-cutback  education-spending  superfund-right-to-sue  \\\n",
       "320                             0                   0                       1   \n",
       "180                             0                   0                       0   \n",
       "47                              0                   0                       0   \n",
       "161                             0                   1                       1   \n",
       "172                             0                   0                       0   \n",
       "..                            ...                 ...                     ...   \n",
       "282                             0                   1                       1   \n",
       "228                             0                   1                       1   \n",
       "347                             0                   1                       1   \n",
       "217                             0                   1                       1   \n",
       "229                             0                   1                       1   \n",
       "\n",
       "     crime  duty-free-exports  export-administration-act-south-africa  \n",
       "320      1                  0                                       1  \n",
       "180      0                  1                                       1  \n",
       "47       0                  0                                       1  \n",
       "161      1                  0                                       1  \n",
       "172      0                  1                                       1  \n",
       "..     ...                ...                                     ...  \n",
       "282      1                  0                                       0  \n",
       "228      1                  0                                       1  \n",
       "347      1                  0                                       0  \n",
       "217      1                  0                                       0  \n",
       "229      1                  0                                       1  \n",
       "\n",
       "[100 rows x 17 columns]"
      ]
     },
     "execution_count": 313,
     "metadata": {},
     "output_type": "execute_result"
    }
   ],
   "source": [
    "datav"
   ]
  },
  {
   "cell_type": "code",
   "execution_count": 314,
   "metadata": {},
   "outputs": [],
   "source": [
    "xdata = datav\n",
    "xdata = xdata.drop('label', axis=1)\n",
    "number_of_columns = len(xdata.columns)\n",
    "X = xdata.to_numpy()\n",
    "y = np.array(datav.label)\n"
   ]
  },
  {
   "cell_type": "code",
   "execution_count": 319,
   "metadata": {},
   "outputs": [
    {
     "data": {
      "image/png": "[encoded data removed]",
      "text/plain": [
       "<Figure size 720x720 with 1 Axes>"
      ]
     },
     "metadata": {
      "needs_background": "light"
     },
     "output_type": "display_data"
    }
   ],
   "source": [
    "nbc = NBC(feature_types=['b'] * number_of_columns)\n",
    "lr = LogisticRegression()\n",
    "nbcres, lrres = compareNBCvsLR(nbc, lr, X, y, num_runs=500)\n",
    "makePlot(nbcres, lrres)"
   ]
  },
  {
   "cell_type": "code",
   "execution_count": 320,
   "metadata": {},
   "outputs": [
    {
     "data": {
      "text/plain": [
       "(array([0.2173, 0.1318, 0.1064, 0.1005, 0.1018, 0.0999, 0.0999, 0.1002,\n",
       "        0.0999, 0.1   ]),\n",
       " array([0.1615, 0.1522, 0.1443, 0.1398, 0.1382, 0.1328, 0.125 , 0.1203,\n",
       "        0.1098, 0.1   ]))"
      ]
     },
     "execution_count": 320,
     "metadata": {},
     "output_type": "execute_result"
    }
   ],
   "source": [
    "nbcres, lrres"
   ]
  },
  {
   "cell_type": "markdown",
   "metadata": {},
   "source": [
    "**Short Report**\n",
    "\n",
    "For pre-processing the data the first step that was taken, was to undersample the dataset to 100 as required. To do this, the class proportion was taken into account. Since 62% of the data were of class 'democrat' and 38% was of class 'republican', it was decided as a way to balance the dataset to take 50 of each class (the dataset was shuffled before taking the data for each class). Next, due to some missing values, the next step was to clean the dataset and replace the missing values. To do this, for each class and for each attribute, the frequency of values was calculated and the missing values were filled using the most frequent value. After filling the missing values, labels and the values of the attributes were encoded to 0 or 1, since both the labels and attributes were binary. Moreover, the splitting of the data was performed in a way that the class distribution was conserved for both training and test datasets, and all the classes are included in both training and test datasets.\n",
    "\n",
    "Through the comparison, it can be observed that the Logistic Regression line meets the naive bayes line early in the plot. It can be also observed that both classifiers achieved the same error at the end (0.10), using the whole dataset. Naive Bayes has the same trend as in the previous trend, a sharp decrease in error in the early dataset increaments and also, after 60% there was no change in the resulting error. On the other hand, Logistic Regression had a more gradual decrease, almost linear. Logistic Regression can achieve better results using very small dataset (using 10% of the training dataset). "
   ]
  },
  {
   "cell_type": "code",
   "execution_count": null,
   "metadata": {},
   "outputs": [],
   "source": []
  }
 ],
 "metadata": {
  "kernelspec": {
   "display_name": "Python 3",
   "language": "python",
   "name": "python3"
  },
  "language_info": {
   "codemirror_mode": {
    "name": "ipython",
    "version": 3
   },
   "file_extension": ".py",
   "mimetype": "text/x-python",
   "name": "python",
   "nbconvert_exporter": "python",
   "pygments_lexer": "ipython3",
   "version": "3.8.8"
  }
 },
 "nbformat": 4,
 "nbformat_minor": 4
}
